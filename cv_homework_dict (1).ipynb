{
  "nbformat": 4,
  "nbformat_minor": 0,
  "metadata": {
    "colab": {
      "name": "cv_homework_dict.ipynb",
      "provenance": [],
      "collapsed_sections": []
    },
    "kernelspec": {
      "name": "python3",
      "display_name": "Python 3"
    },
    "language_info": {
      "name": "python"
    }
  },
  "cells": [
    {
      "cell_type": "code",
      "metadata": {
        "id": "JisfYNwQE55W"
      },
      "source": [
        "import numpy as np\n",
        "import matplotlib.pyplot as plt\n",
        "from skimage.measure import label, regionprops"
      ],
      "execution_count": null,
      "outputs": []
    },
    {
      "cell_type": "code",
      "metadata": {
        "colab": {
          "base_uri": "https://localhost:8080/",
          "height": 319
        },
        "id": "aHem9tsHFD7O",
        "outputId": "a57dff94-0746-4182-df2c-f992e83f757e"
      },
      "source": [
        "def lakes_and_bays(image):\n",
        "  b = ~image\n",
        "  lb = label(b)\n",
        "  regs = regionprops(lb)\n",
        "  count_lakes=0\n",
        "  count_bays = 0\n",
        "  for reg in regs:\n",
        "    on_bound = False\n",
        "    for y,x in reg.coords:\n",
        "      if y == 0 or x == 0 or y == image.shape[0] - 1 or x == image.shape[1] - 1:\n",
        "        on_bound = True\n",
        "        break\n",
        "    if not on_bound:\n",
        "      count_lakes+=1\n",
        "    else:\n",
        "      count_bays += 1\n",
        "  return count_lakes,count_bays\n",
        "\n",
        "def has_vline(region):\n",
        "  lines = np.sum(region.image,0) // region.image.shape[0]\n",
        "  return 1 in lines\n",
        "\n",
        "def filling_factor(region):\n",
        "  return np.sum(region.image) / region.image.size\n",
        "\n",
        "def lakes_area(image):\n",
        "  return (np.sum(region.filled_image) - np.sum(region.image)) / region.image.size\n",
        "\n",
        "\n",
        "def recognize(region):\n",
        "  if np.all(region.image):\n",
        "    return '-'\n",
        "  cl,cb = lakes_and_bays(region.image)\n",
        "  if cl == 2:\n",
        "    if has_vline(region):\n",
        "      return 'B'\n",
        "    else:\n",
        "      return '8'\n",
        "  if cl == 1:\n",
        "    if cb == 2:\n",
        "      lakes_a = lakes_area(region)\n",
        "      if lakes_a > 0.2:\n",
        "        return 'D'\n",
        "      else:\n",
        "        return 'P'\n",
        "    elif cb == 3:\n",
        "      return 'A'\n",
        "    elif cb == 4:\n",
        "      return '0'\n",
        "\n",
        "  if cl == 0:\n",
        "    if has_vline(region):\n",
        "        return '1'\n",
        "    if cb == 2:\n",
        "      return '/'\n",
        "\n",
        "    cut_cl, cut_cb = lakes_and_bays(region.image[2:-2, 2:-2])\n",
        "    if cut_cb == 4:\n",
        "      return 'X'\n",
        "    if cut_cb == 5:\n",
        "      cy = region.image.shape[0] // 2\n",
        "      cx = region.image.shape[1] // 2\n",
        "      if region.image[cy,cx] > 0:\n",
        "        return '*'\n",
        "      return 'W'\n",
        "    \n",
        "    \n",
        "  return None\n",
        "\n",
        "image = plt.imread('symbols.png')\n",
        "binary = np.sum(image,2)\n",
        "binary[binary>0] = 1\n",
        "\n",
        "labeled = label(binary)\n",
        "print(np.max(labeled))\n",
        "\n",
        "regions = regionprops(labeled)\n",
        "\n",
        "d = {None: 0}\n",
        "for region in regions:\n",
        "  symbol = recognize(region)\n",
        "  if symbol not in d:\n",
        "    d[symbol] = 0\n",
        "  d[symbol] += 1\n",
        "\n",
        "print(round((1. - d[None] / sum(d.values()))*100,2))\n",
        "\n",
        "print(d)\n",
        "plt.imshow(labeled)\n",
        "plt.show()"
      ],
      "execution_count": null,
      "outputs": [
        {
          "output_type": "stream",
          "name": "stdout",
          "text": [
            "400\n",
            "100.0\n",
            "{None: 0, 'D': 31, 'X': 23, '/': 35, '*': 39, '1': 42, 'A': 35, 'P': 37, 'B': 61, '-': 31, 'W': 26, '0': 30, '8': 10}\n"
          ]
        },
        {
          "output_type": "display_data",
          "data": {
            "image/png": "[encoded data removed]",
            "text/plain": [
              "<Figure size 432x288 with 1 Axes>"
            ]
          },
          "metadata": {
            "needs_background": "light"
          }
        }
      ]
    },
    {
      "cell_type": "code",
      "metadata": {
        "id": "gi1nh7cDFYuu"
      },
      "source": [
        ""
      ],
      "execution_count": null,
      "outputs": []
    }
  ]
}