{
  "nbformat": 4,
  "nbformat_minor": 0,
  "metadata": {
    "colab": {
      "name": "CountObjectsColorHW.ipynb",
      "provenance": [],
      "collapsed_sections": []
    },
    "kernelspec": {
      "name": "python3",
      "display_name": "Python 3"
    },
    "language_info": {
      "name": "python"
    }
  },
  "cells": [
    {
      "cell_type": "code",
      "metadata": {
        "id": "c6LT6PaR2sK6"
      },
      "source": [
        "import numpy as np\n",
        "import matplotlib.pyplot as plt\n",
        "from scipy.ndimage import morphology\n",
        "from skimage.measure import label\n",
        "from skimage import color\n",
        "from skimage.measure import regionprops"
      ],
      "execution_count": 124,
      "outputs": []
    },
    {
      "cell_type": "code",
      "metadata": {
        "id": "jtnfTmy57RVf"
      },
      "source": [
        "image = plt.imread('balls_and_rects.png')"
      ],
      "execution_count": 125,
      "outputs": []
    },
    {
      "cell_type": "code",
      "metadata": {
        "id": "fnQle2zB7boe"
      },
      "source": [
        "image_c = color.rgb2hsv(image)"
      ],
      "execution_count": 126,
      "outputs": []
    },
    {
      "cell_type": "code",
      "metadata": {
        "colab": {
          "base_uri": "https://localhost:8080/",
          "height": 265
        },
        "id": "Kb4vvRJH70lS",
        "outputId": "71a79849-0dd1-49ba-9358-3b0d5d134c6f"
      },
      "source": [
        "plt.figure()\n",
        "plt.subplot(121)\n",
        "plt.imshow(image_c)\n",
        "plt.subplot(122)\n",
        "plt.plot(np.unique(image_c[:,:,0]),'o')\n",
        "plt.show()"
      ],
      "execution_count": 127,
      "outputs": [
        {
          "output_type": "display_data",
          "data": {
            "image/png": "[encoded data removed]",
            "text/plain": [
              "<Figure size 432x288 with 2 Axes>"
            ]
          },
          "metadata": {
            "needs_background": "light"
          }
        }
      ]
    },
    {
      "cell_type": "code",
      "metadata": {
        "id": "RhPJYbKi8KwH"
      },
      "source": [
        "def det_color(hsv):\n",
        "  unique = np.unique(hsv[:,:,0])\n",
        "  diff = np.diff(unique).mean()/2\n",
        "  plt.plot(np.diff(unique))\n",
        "  plt.show()\n",
        "  vals = []\n",
        "  color = [unique[0]]\n",
        "\n",
        "  for i in range(0,len(unique)-1):\n",
        "    if np.abs(unique[i] - unique[i+1]) < diff:\n",
        "      color.append(unique[i])\n",
        "    else:\n",
        "      color.append(unique[i])\n",
        "      vals.append(np.array(color).mean())\n",
        "      color = []\n",
        "\n",
        "  if len(color) > 0:\n",
        "    vals.append(np.array(color).mean())\n",
        "  elif np.abs(unique[-2] - unique[-1]) > diff:\n",
        "    vals.append(unique[-1])\n",
        "\n",
        "  if vals[0] == 0:\n",
        "    del vals[0]\n",
        "    \n",
        "  return vals"
      ],
      "execution_count": 148,
      "outputs": []
    },
    {
      "cell_type": "code",
      "metadata": {
        "colab": {
          "base_uri": "https://localhost:8080/",
          "height": 265
        },
        "id": "nVP54ab58PtC",
        "outputId": "30fb6ddb-ba2a-4293-80b9-0c0ddc8dc54b"
      },
      "source": [
        "colors = det_color(image_c)"
      ],
      "execution_count": 149,
      "outputs": [
        {
          "output_type": "display_data",
          "data": {
            "image/png": "[encoded data removed]",
            "text/plain": [
              "<Figure size 432x288 with 1 Axes>"
            ]
          },
          "metadata": {
            "needs_background": "light"
          }
        }
      ]
    },
    {
      "cell_type": "code",
      "metadata": {
        "colab": {
          "base_uri": "https://localhost:8080/"
        },
        "id": "-p9C_bOCHHS3",
        "outputId": "8e021317-1d5c-424c-bbf4-53ef906bb1c0"
      },
      "source": [
        "print(colors)"
      ],
      "execution_count": 150,
      "outputs": [
        {
          "output_type": "stream",
          "name": "stdout",
          "text": [
            "[0.05532824, 0.19447353, 0.3057229, 0.41655862, 0.6111331, 0.8333333]\n"
          ]
        }
      ]
    },
    {
      "cell_type": "code",
      "metadata": {
        "id": "O59XFChF8XG1"
      },
      "source": [
        "c_img = np.zeros((10,len(colors)*10))"
      ],
      "execution_count": 151,
      "outputs": []
    },
    {
      "cell_type": "code",
      "metadata": {
        "id": "pYqfqFD2834p"
      },
      "source": [
        "for c in range(len(colors)):\n",
        "  c_img[:,c*10:c*10+10] = colors[c]"
      ],
      "execution_count": 152,
      "outputs": []
    },
    {
      "cell_type": "code",
      "metadata": {
        "colab": {
          "base_uri": "https://localhost:8080/",
          "height": 122
        },
        "id": "8zGLG6WV9vyh",
        "outputId": "9df77c47-7463-4879-8071-e419d77ca0dc"
      },
      "source": [
        "plt.imshow(c_img)"
      ],
      "execution_count": 153,
      "outputs": [
        {
          "output_type": "execute_result",
          "data": {
            "text/plain": [
              "<matplotlib.image.AxesImage at 0x7f53dae46910>"
            ]
          },
          "metadata": {},
          "execution_count": 153
        },
        {
          "output_type": "display_data",
          "data": {
            "image/png": "[encoded data removed]",
            "text/plain": [
              "<Figure size 432x288 with 1 Axes>"
            ]
          },
          "metadata": {
            "needs_background": "light"
          }
        }
      ]
    },
    {
      "cell_type": "code",
      "metadata": {
        "id": "CjLwZCxH90Ux"
      },
      "source": [
        "gray = np.mean(image_c,2)"
      ],
      "execution_count": 154,
      "outputs": []
    },
    {
      "cell_type": "code",
      "metadata": {
        "id": "PIJmIUFPBytA"
      },
      "source": [
        "binary = gray.copy()\n",
        "binary[binary>0] = 1"
      ],
      "execution_count": 155,
      "outputs": []
    },
    {
      "cell_type": "code",
      "metadata": {
        "id": "TOuHxEIFCBU8"
      },
      "source": [
        "labeled = label(binary)"
      ],
      "execution_count": 156,
      "outputs": []
    },
    {
      "cell_type": "code",
      "metadata": {
        "colab": {
          "base_uri": "https://localhost:8080/"
        },
        "id": "6gF5Puy4BU7x",
        "outputId": "c5fcfda9-bf1a-4675-a56d-4fff251033e0"
      },
      "source": [
        "print(np.max(labeled))"
      ],
      "execution_count": 157,
      "outputs": [
        {
          "output_type": "stream",
          "name": "stdout",
          "text": [
            "257\n"
          ]
        }
      ]
    },
    {
      "cell_type": "code",
      "metadata": {
        "id": "6ZQrF0hqBd1h"
      },
      "source": [
        "regions = regionprops(labeled)"
      ],
      "execution_count": 158,
      "outputs": []
    },
    {
      "cell_type": "code",
      "metadata": {
        "id": "7cxHES60D0-v"
      },
      "source": [
        "rects = {color: 0 for color in colors}\n",
        "balls = {color: 0 for color in colors}"
      ],
      "execution_count": 159,
      "outputs": []
    },
    {
      "cell_type": "code",
      "metadata": {
        "id": "kvOWp_eTGcdL"
      },
      "source": [
        "unique = np.unique(image_c[:,:,0])\n",
        "diff = np.diff(unique).mean()/2\n",
        "\n",
        "for region in regions:\n",
        "  if region.extent == 1:\n",
        "    figs = rects\n",
        "  else:\n",
        "    figs = balls\n",
        "\n",
        "  centroid = region.centroid\n",
        "  r_color = image_c[int(centroid[0]),int(centroid[1]),0]\n",
        "  for c in colors:\n",
        "    if np.abs(r_color - c) < diff:\n",
        "      figs[c] += 1\n",
        "      break"
      ],
      "execution_count": 160,
      "outputs": []
    },
    {
      "cell_type": "code",
      "metadata": {
        "colab": {
          "base_uri": "https://localhost:8080/"
        },
        "id": "MjSFfjkYLts9",
        "outputId": "02e2c8a9-857a-433f-acd7-8036e5165d67"
      },
      "source": [
        "print('Total number of figures:', np.max(labeled))\n",
        "rects_num = sum(list(rects.values()))\n",
        "balls_num = sum(list(balls.values()))\n",
        "print('Total number of figures found:', rects_num+balls_num)\n",
        "print()\n",
        "print('Balls found: ',balls_num)\n",
        "color_id = 1\n",
        "for color in balls:\n",
        "  print(f'Color type {color_id}: {balls[color]}')\n",
        "  color_id+=1\n",
        "print('Rectangles found: ', rects_num)\n",
        "color_id = 1\n",
        "for color in rects:\n",
        "  print(f'Color type {color_id}: {rects[color]}')\n",
        "  color_id+=1"
      ],
      "execution_count": 161,
      "outputs": [
        {
          "output_type": "stream",
          "name": "stdout",
          "text": [
            "Total number of figures: 257\n",
            "Total number of figures found: 257\n",
            "\n",
            "Balls found:  122\n",
            "Color type 1: 17\n",
            "Color type 2: 19\n",
            "Color type 3: 12\n",
            "Color type 4: 22\n",
            "Color type 5: 29\n",
            "Color type 6: 23\n",
            "Rectangles found:  135\n",
            "Color type 1: 22\n",
            "Color type 2: 32\n",
            "Color type 3: 17\n",
            "Color type 4: 22\n",
            "Color type 5: 29\n",
            "Color type 6: 13\n"
          ]
        }
      ]
    }
  ]
}