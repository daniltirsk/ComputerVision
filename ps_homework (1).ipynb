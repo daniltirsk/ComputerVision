{
  "nbformat": 4,
  "nbformat_minor": 0,
  "metadata": {
    "colab": {
      "name": "ps_homework.ipynb",
      "provenance": [],
      "collapsed_sections": []
    },
    "kernelspec": {
      "name": "python3",
      "display_name": "Python 3"
    },
    "language_info": {
      "name": "python"
    }
  },
  "cells": [
    {
      "cell_type": "code",
      "metadata": {
        "id": "Kj8eeFTufyRg"
      },
      "source": [
        "import numpy as np\n",
        "import matplotlib.pyplot as plt\n",
        "from scipy.ndimage import morphology\n",
        "from skimage.measure import label"
      ],
      "execution_count": 1,
      "outputs": []
    },
    {
      "cell_type": "code",
      "metadata": {
        "id": "xSeRZ3K3hXn8"
      },
      "source": [
        "def neighbours4(y, x):\n",
        "  return (y,x-1),(y,x+1),(y-1,x),(y+1,x)\n",
        "\n",
        "\n",
        "def get_boundaries(LB,label):\n",
        "  pxs = np.where(LB == label)\n",
        "  boundaries = []\n",
        "  for y,x in zip(*pxs):\n",
        "    for yn, xn in neighbours4(y,x):\n",
        "      if yn < 0 or yn > LB.shape[0] - 1:\n",
        "        boundaries.append((y,x))\n",
        "        break\n",
        "      elif xn < 0 or xn > LB.shape[1] - 1:\n",
        "        boundaries.append((y,x))\n",
        "        break\n",
        "      elif LB[yn,xn] != label:\n",
        "        boundaries.append((y,x))    \n",
        "        break\n",
        "  return boundaries\n",
        "\n",
        "def draw_boundaries(LB,label):\n",
        "  BB = np.zeros_like(LB)\n",
        "  pos = np.where(LB == label)\n",
        "  BB[pos] = LB[pos]\n",
        "\n",
        "  boundaries = get_boundaries(BB,label)\n",
        "  for y, x in boundaries:\n",
        "    BB[y,x] = label + 1\n",
        "  return BB"
      ],
      "execution_count": 2,
      "outputs": []
    },
    {
      "cell_type": "code",
      "metadata": {
        "id": "0vIc_IeTgR05"
      },
      "source": [
        "file = np.load('ps.npy')"
      ],
      "execution_count": 3,
      "outputs": []
    },
    {
      "cell_type": "code",
      "metadata": {
        "id": "W0YE_SoGg7-e"
      },
      "source": [
        "labeled = label(file)"
      ],
      "execution_count": 4,
      "outputs": []
    },
    {
      "cell_type": "code",
      "metadata": {
        "id": "Hlmq6t8RhcGu",
        "colab": {
          "base_uri": "https://localhost:8080/"
        },
        "outputId": "d1f8883a-11f2-46a3-b807-59e47a9c790d"
      },
      "source": [
        "print(np.max(labeled))"
      ],
      "execution_count": 5,
      "outputs": [
        {
          "output_type": "stream",
          "name": "stdout",
          "text": [
            "500\n"
          ]
        }
      ]
    },
    {
      "cell_type": "code",
      "metadata": {
        "id": "06pOME-iuT4G"
      },
      "source": [
        "def get_boundary_path(image,label):\n",
        "  boundaries = get_boundaries(image,label)\n",
        "  moves = [(-1,0),(-1,1),(0,1),(1,1),(1,0),(1,-1),(0,-1),(-1,-1)]\n",
        "  path = []\n",
        "  coords = boundaries[0]\n",
        "  while len(boundaries) > 0:\n",
        "    move_candidates = []\n",
        "    new_coords = ()\n",
        "    for move in moves:\n",
        "      new_coords = (coords[0]+move[0],coords[1]+move[1])\n",
        "      if new_coords in boundaries:\n",
        "        move_candidates.append(True)\n",
        "      else:\n",
        "        move_candidates.append(False)\n",
        "    \n",
        "    if not move_candidates[-1] and move_candidates[0]:\n",
        "      coords = (coords[0]+moves[0][0],coords[1]+moves[0][1])\n",
        "      path.append(0)\n",
        "    else:\n",
        "      for i in range(7):\n",
        "        if not move_candidates[i] and move_candidates[i+1]:\n",
        "          coords = (coords[0]+moves[i+1][0],coords[1]+moves[i+1][1])\n",
        "          path.append(i+1)\n",
        "          break\n",
        "\n",
        "    boundaries.remove(coords)\n",
        "  return sorted(path)"
      ],
      "execution_count": 6,
      "outputs": []
    },
    {
      "cell_type": "code",
      "metadata": {
        "id": "pVEH_BP3RrYZ"
      },
      "source": [
        "image = file.copy()\n",
        "total = np.max(labeled)\n",
        "types = {}\n",
        "found = 0\n",
        "\n",
        "masks = [np.ones((4,6))]\n",
        "result = morphology.binary_opening(image,masks[0]).astype('int')\n",
        "labeled_c = label(result)\n",
        "amount = np.max(labeled_c)\n",
        "found = amount\n",
        "types[0] = amount\n",
        "\n",
        "new_type = 1\n",
        "for i in range(1,total+1):\n",
        "  pxs = np.where(labeled == i)\n",
        "  if len(pxs[0])>0:\n",
        "    labeled_n = np.zeros_like(labeled)\n",
        "    labeled_n[pxs] = 1\n",
        "    cropped = labeled_n[min(pxs[0]):max(pxs[0])+1,min(pxs[1]):max(pxs[1])+1]\n",
        "\n",
        "    already_counted = False\n",
        "    for j in range(0,len(masks)):\n",
        "      if cropped.shape == masks[j].shape:\n",
        "        if (cropped == masks[j]).all():\n",
        "          already_counted = True\n",
        "    \n",
        "    if already_counted:\n",
        "      continue\n",
        "\n",
        "    masks.append(cropped)\n",
        "    result = morphology.binary_opening(image,cropped).astype('int')\n",
        "    labeled_c = label(result)\n",
        "    amount = np.max(labeled_c)\n",
        "    \n",
        "    if cropped.shape == masks[0].shape:\n",
        "      if masks[0].sum() - (cropped == masks[0]).sum() == 4:\n",
        "        amount -= types[0]\n",
        "\n",
        "    types[new_type] = amount\n",
        "    new_type += 1\n",
        "\n",
        "    found+=amount\n",
        "    if found==total:\n",
        "      break"
      ],
      "execution_count": 25,
      "outputs": []
    },
    {
      "cell_type": "code",
      "metadata": {
        "id": "hkYxilMYT7eR",
        "colab": {
          "base_uri": "https://localhost:8080/"
        },
        "outputId": "23417436-562e-47f5-87ad-d5bf05b2d84c"
      },
      "source": [
        "print(types)\n",
        "\n",
        "for t in range(len(types)):\n",
        "  print('Mask: \\n', masks[t])\n",
        "  print('Amount: ',types[t])"
      ],
      "execution_count": 28,
      "outputs": [
        {
          "output_type": "stream",
          "name": "stdout",
          "text": [
            "{0: 92, 1: 94, 2: 123, 3: 95, 4: 96}\n",
            "Mask: \n",
            " [[1. 1. 1. 1. 1. 1.]\n",
            " [1. 1. 1. 1. 1. 1.]\n",
            " [1. 1. 1. 1. 1. 1.]\n",
            " [1. 1. 1. 1. 1. 1.]]\n",
            "Amount:  92\n",
            "Mask: \n",
            " [[1 1 1 1]\n",
            " [1 1 1 1]\n",
            " [1 1 0 0]\n",
            " [1 1 0 0]\n",
            " [1 1 1 1]\n",
            " [1 1 1 1]]\n",
            "Amount:  94\n",
            "Mask: \n",
            " [[1 1 1 1]\n",
            " [1 1 1 1]\n",
            " [0 0 1 1]\n",
            " [0 0 1 1]\n",
            " [1 1 1 1]\n",
            " [1 1 1 1]]\n",
            "Amount:  123\n",
            "Mask: \n",
            " [[1 1 0 0 1 1]\n",
            " [1 1 0 0 1 1]\n",
            " [1 1 1 1 1 1]\n",
            " [1 1 1 1 1 1]]\n",
            "Amount:  95\n",
            "Mask: \n",
            " [[1 1 1 1 1 1]\n",
            " [1 1 1 1 1 1]\n",
            " [1 1 0 0 1 1]\n",
            " [1 1 0 0 1 1]]\n",
            "Amount:  96\n"
          ]
        }
      ]
    },
    {
      "cell_type": "code",
      "metadata": {
        "id": "9JNG6Jg45ZDe"
      },
      "source": [
        ""
      ],
      "execution_count": null,
      "outputs": []
    }
  ]
}