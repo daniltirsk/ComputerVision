{
  "nbformat": 4,
  "nbformat_minor": 0,
  "metadata": {
    "colab": {
      "name": "ps_homework.ipynb",
      "provenance": [],
      "collapsed_sections": []
    },
    "kernelspec": {
      "name": "python3",
      "display_name": "Python 3"
    },
    "language_info": {
      "name": "python"
    }
  },
  "cells": [
    {
      "cell_type": "code",
      "metadata": {
        "id": "Kj8eeFTufyRg"
      },
      "source": [
        "import numpy as np\n",
        "import matplotlib.pyplot as plt\n",
        "from scipy.ndimage import morphology\n",
        "from skimage.measure import label"
      ],
      "execution_count": 1,
      "outputs": []
    },
    {
      "cell_type": "code",
      "metadata": {
        "id": "xSeRZ3K3hXn8"
      },
      "source": [
        "def neighbours4(y, x):\n",
        "  return (y,x-1),(y,x+1),(y-1,x),(y+1,x)\n",
        "\n",
        "\n",
        "def get_boundaries(LB,label):\n",
        "  pxs = np.where(LB == label)\n",
        "  boundaries = []\n",
        "  for y,x in zip(*pxs):\n",
        "    for yn, xn in neighbours4(y,x):\n",
        "      if yn < 0 or yn > LB.shape[0] - 1:\n",
        "        boundaries.append((y,x))\n",
        "        break\n",
        "      elif xn < 0 or xn > LB.shape[1] - 1:\n",
        "        boundaries.append((y,x))\n",
        "        break\n",
        "      elif LB[yn,xn] != label:\n",
        "        boundaries.append((y,x))    \n",
        "        break\n",
        "  return boundaries\n",
        "\n",
        "def draw_boundaries(LB,label):\n",
        "  BB = np.zeros_like(LB)\n",
        "  pos = np.where(LB == label)\n",
        "  BB[pos] = LB[pos]\n",
        "\n",
        "  boundaries = get_boundaries(BB,label)\n",
        "  for y, x in boundaries:\n",
        "    BB[y,x] = label + 1\n",
        "  return BB"
      ],
      "execution_count": 2,
      "outputs": []
    },
    {
      "cell_type": "code",
      "metadata": {
        "id": "0vIc_IeTgR05"
      },
      "source": [
        "file = np.load('ps.npy')"
      ],
      "execution_count": 41,
      "outputs": []
    },
    {
      "cell_type": "code",
      "metadata": {
        "id": "W0YE_SoGg7-e"
      },
      "source": [
        "labeled = label(file)"
      ],
      "execution_count": 40,
      "outputs": []
    },
    {
      "cell_type": "code",
      "metadata": {
        "id": "Hlmq6t8RhcGu",
        "colab": {
          "base_uri": "https://localhost:8080/"
        },
        "outputId": "07229cb9-4c43-434e-d407-b2be84aa71fe"
      },
      "source": [
        "print(np.max(labeled))"
      ],
      "execution_count": 39,
      "outputs": [
        {
          "output_type": "stream",
          "name": "stdout",
          "text": [
            "500\n"
          ]
        }
      ]
    },
    {
      "cell_type": "code",
      "metadata": {
        "id": "06pOME-iuT4G"
      },
      "source": [
        "def get_boundary_path(image,label):\n",
        "  boundaries = get_boundaries(image,label)\n",
        "  moves = [(-1,0),(-1,1),(0,1),(1,1),(1,0),(1,-1),(0,-1),(-1,-1)]\n",
        "  path = []\n",
        "  coords = boundaries[0]\n",
        "  while len(boundaries) > 0:\n",
        "    move_candidates = []\n",
        "    new_coords = ()\n",
        "    for move in moves:\n",
        "      new_coords = (coords[0]+move[0],coords[1]+move[1])\n",
        "      if new_coords in boundaries:\n",
        "        move_candidates.append(True)\n",
        "      else:\n",
        "        move_candidates.append(False)\n",
        "    \n",
        "    if not move_candidates[-1] and move_candidates[0]:\n",
        "      coords = (coords[0]+moves[0][0],coords[1]+moves[0][1])\n",
        "      path.append(0)\n",
        "    else:\n",
        "      for i in range(7):\n",
        "        if not move_candidates[i] and move_candidates[i+1]:\n",
        "          coords = (coords[0]+moves[i+1][0],coords[1]+moves[i+1][1])\n",
        "          path.append(i+1)\n",
        "          break\n",
        "\n",
        "    boundaries.remove(coords)\n",
        "  return sorted(path)"
      ],
      "execution_count": 6,
      "outputs": []
    },
    {
      "cell_type": "code",
      "metadata": {
        "id": "pVEH_BP3RrYZ"
      },
      "source": [
        "image = file.copy()\n",
        "masks = []\n",
        "total = np.max(labeled)\n",
        "found = 0\n",
        "types = {}\n",
        "for i in range(1,total+1):\n",
        "  pxs = np.where(labeled == i)\n",
        "  if len(pxs[0])>0:\n",
        "    labeled_n = np.zeros_like(labeled)\n",
        "    labeled_n[pxs] = 1\n",
        "    cropped = labeled_n[min(pxs[0]):max(pxs[0])+1,min(pxs[1]):max(pxs[1])+1]\n",
        "    boundary_path = np.array(get_boundary_path(cropped,1))\n",
        "    new_type = \"\".join([str(e) for e in boundary_path])\n",
        "    if new_type in types:\n",
        "      continue\n",
        "    else:\n",
        "      result = morphology.binary_opening(image,cropped).astype('int')\n",
        "      labeled_c = label(result)\n",
        "      amount = np.max(labeled_c)\n",
        "      types[new_type] = amount\n",
        "      found += amount"
      ],
      "execution_count": 29,
      "outputs": []
    },
    {
      "cell_type": "code",
      "metadata": {
        "id": "hkYxilMYT7eR",
        "colab": {
          "base_uri": "https://localhost:8080/"
        },
        "outputId": "4f5963b2-c943-4920-823e-8b6e30bc9da6"
      },
      "source": [
        "r_types = {}\n",
        "for t in types:\n",
        "  path = np.array([int(i) for i in t])\n",
        "  paths = [sorted((path + i)%8) for i in range(0,7,2)]\n",
        "  paths = ''.join(sorted([''.join([str(ch) for ch in p]) for p in paths]))\n",
        "  \n",
        "  if paths in r_types:\n",
        "    r_types[paths]+=types[t]\n",
        "  else:\n",
        "    r_types[paths] = types[t]\n",
        "r_types = [t for t in r_types.values()]\n",
        "\n",
        "print('Total:',np.max(labeled),'First type:',r_types[0]-r_types[1]*2,'Second type:',r_types[1])"
      ],
      "execution_count": 43,
      "outputs": [
        {
          "output_type": "stream",
          "name": "stdout",
          "text": [
            "Total: 500 First type: 408 Second type: 92\n"
          ]
        }
      ]
    },
    {
      "cell_type": "code",
      "metadata": {
        "id": "9JNG6Jg45ZDe"
      },
      "source": [
        ""
      ],
      "execution_count": null,
      "outputs": []
    }
  ]
}